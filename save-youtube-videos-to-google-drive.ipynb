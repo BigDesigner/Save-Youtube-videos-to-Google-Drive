{
  "nbformat": 4,
  "nbformat_minor": 0,
  "metadata": {
    "colab": {
      "provenance": [],
      "authorship_tag": "ABX9TyMUptg7vIvt6h7UcsJH8xNp",
      "include_colab_link": true
    },
    "kernelspec": {
      "name": "python3",
      "display_name": "Python 3"
    },
    "language_info": {
      "name": "python"
    }
  },
  "cells": [
    {
      "cell_type": "markdown",
      "metadata": {
        "id": "view-in-github",
        "colab_type": "text"
      },
      "source": [
        "<a href=\"https://colab.research.google.com/github/BigDesigner/Save-Youtube-videos-to-Google-Drive/blob/main/save-youtube-videos-to-google-drive.ipynb\" target=\"_parent\"><img src=\"https://colab.research.google.com/assets/colab-badge.svg\" alt=\"Open In Colab\"/></a>"
      ]
    },
    {
      "cell_type": "code",
      "execution_count": null,
      "metadata": {
        "id": "k5VHmlQ6hn7i"
      },
      "outputs": [],
      "source": [
        "!pip install yt-dlp\n",
        "!pip install ipywidgets\n"
      ]
    },
    {
      "cell_type": "code",
      "source": [
        "# Connect Google Drive\n",
        "from google.colab import drive\n",
        "drive.mount('/content/drive')"
      ],
      "metadata": {
        "id": "SFHmSr2n4rez"
      },
      "execution_count": null,
      "outputs": []
    },
    {
      "cell_type": "code",
      "source": [
        "import os\n",
        "import shutil\n",
        "import yt_dlp\n",
        "import ipywidgets as widgets\n",
        "from IPython.display import display, clear_output\n",
        "\n",
        "# Create the title\n",
        "title = widgets.HTML(value=\"<h1>Save Youtube videos to Google Drive</h1>\")\n",
        "\n",
        "# Create input fields\n",
        "link_label = widgets.HTML(value=\"<b>URL:</b>\")\n",
        "link_input = widgets.Text(placeholder='Enter YouTube URL...', layout=widgets.Layout(width='795px', height='40px'))\n",
        "\n",
        "folder_label = widgets.HTML(value=\"<b>Folder:</b>\")\n",
        "folder_input = widgets.Text(placeholder='Default Folder MyDrive/Downloads or enter a new folder name.', layout=widgets.Layout(width='795px', height='40px'))\n",
        "\n",
        "# Create the download button\n",
        "download_button = widgets.Button(description='Download', layout=widgets.Layout(width='795px', height='40px'))\n",
        "\n",
        "# Progress bar is initially hidden\n",
        "progress_bar = widgets.FloatProgress(min=0.0, max=1.0, description='Progress:')\n",
        "progress_bar.layout.display = 'none'\n",
        "progress_label = widgets.Label(value=\"\")\n",
        "\n",
        "# Progress hook function to update the progress bar and label\n",
        "def progress_hook(d):\n",
        "    if d['status'] == 'downloading':\n",
        "        total_bytes = d.get('total_bytes', 1)\n",
        "        downloaded_bytes = d.get('downloaded_bytes', 0)\n",
        "        progress_bar.value = downloaded_bytes / total_bytes if total_bytes else 0\n",
        "        speed = d.get('speed', 0) / 1024 if d.get('speed') else 0\n",
        "        eta = d.get('eta', 0)\n",
        "        progress_label.value = f\"Downloaded: {round(downloaded_bytes / 1024 / 1024, 2)} MB, Speed: {round(speed, 2)} KB/s, Remaining time: {eta} sec\"\n",
        "    elif d['status'] == 'finished':\n",
        "        progress_bar.value = 1\n",
        "        progress_label.value = \"Download completed!\"\n",
        "\n",
        "# Function to handle the download process\n",
        "def download_video(b):\n",
        "    clear_output(wait=True)\n",
        "    # Redisplay the page contents\n",
        "    display(\n",
        "        widgets.HBox([title], layout=widgets.Layout(justify_content='center', width='800px')),\n",
        "        link_label, link_input,\n",
        "        folder_label, folder_input,\n",
        "        widgets.HBox([download_button], layout=widgets.Layout(justify_content='flex-end', width='800px')),\n",
        "        progress_bar, progress_label\n",
        "    )\n",
        "\n",
        "    progress_bar.layout.display = 'block'\n",
        "    progress_bar.value = 0\n",
        "    progress_label.value = \"Download starting...\"\n",
        "\n",
        "    url = link_input.value\n",
        "    folder_path = folder_input.value\n",
        "\n",
        "    if folder_path:\n",
        "        folder_path = f'/content/drive/MyDrive/{folder_path}'\n",
        "    else:\n",
        "        folder_path = '/content/drive/MyDrive/Downloads'\n",
        "\n",
        "    try:\n",
        "        os.makedirs(folder_path, exist_ok=True)\n",
        "\n",
        "        # Options for downloading the best quality MP4\n",
        "        ydl_opts = {\n",
        "            'format': 'bestvideo[ext=mp4]+bestaudio[ext=m4a]/mp4',\n",
        "            'outtmpl': f'{folder_path}/%(title)s.%(ext)s',\n",
        "            'noplaylist': False,\n",
        "            'progress_hooks': [progress_hook]\n",
        "        }\n",
        "\n",
        "        with yt_dlp.YoutubeDL(ydl_opts) as ydl:\n",
        "            ydl.download([url])\n",
        "    except Exception as e:\n",
        "        progress_label.value = f\"An error occurred: {str(e)}\"\n",
        "\n",
        "    progress_bar.layout.display = 'none'\n",
        "\n",
        "# Display the widgets in a box layout\n",
        "display(widgets.VBox([\n",
        "    widgets.HBox([title], layout=widgets.Layout(justify_content='center', width='800px')),\n",
        "    link_label, link_input,\n",
        "    folder_label, folder_input,\n",
        "    widgets.HBox([download_button], layout=widgets.Layout(justify_content='flex-end', width='800px')),\n",
        "    progress_bar, progress_label\n",
        "], layout=widgets.Layout(width='800px', height='auto')))\n",
        "download_button.on_click(download_video)\n"
      ],
      "metadata": {
        "id": "4KhcdQmphvc5"
      },
      "execution_count": null,
      "outputs": []
    }
  ]
}